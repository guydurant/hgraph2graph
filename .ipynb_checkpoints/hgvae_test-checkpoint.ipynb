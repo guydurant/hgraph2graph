{
 "cells": [
  {
   "cell_type": "code",
   "execution_count": 1,
   "id": "24f6c535",
   "metadata": {},
   "outputs": [],
   "source": [
    "import torch\n",
    "import torch.nn as nn\n",
    "import torch.optim as optim\n",
    "import torch.optim.lr_scheduler as lr_scheduler\n",
    "from torch.utils.data import DataLoader\n",
    "\n",
    "import math, random, sys\n",
    "import numpy as np\n",
    "import argparse\n",
    "from tqdm import tqdm\n",
    "\n",
    "from hgraph import *\n",
    "import rdkit\n",
    "import os\n",
    "\n",
    "os.environ[\"CUDA_VISIBLE_DEVICES\"]=\"\"\n"
   ]
  },
  {
   "cell_type": "code",
   "execution_count": 2,
   "id": "c38220b1",
   "metadata": {},
   "outputs": [],
   "source": [
    "parser = argparse.ArgumentParser()\n",
    "parser.add_argument('--myarg1')\n",
    "args = parser.parse_args(['--myarg1', ''])\n",
    "args.vocab = 'vocab.txt' \n",
    "args.model = 'ckpt/chembl-pretrained/model.ckpt'\n",
    "args.nsample = 1000\n",
    "args.atom_vocab = common_atom_vocab\n",
    "args.seed = 7\n",
    "args.rnn_type = 'LSTM'\n",
    "args.hidden_size = 250\n",
    "args.embed_size = 250\n",
    "args.batch_size = 50\n",
    "args.latent_size = 32\n",
    "args.depthT = 15\n",
    "args.depthG = 15\n",
    "args.diterT = 15\n",
    "args.diterG = 3\n",
    "args.dropout = 0.0"
   ]
  },
  {
   "cell_type": "code",
   "execution_count": 3,
   "id": "58f401d2",
   "metadata": {},
   "outputs": [],
   "source": [
    "with open(args.vocab) as f:\n",
    "    vocab = [x.strip(\"\\r\\n \").split() for x in f]\n",
    "args.vocab = PairVocab(vocab, cuda=False)"
   ]
  },
  {
   "cell_type": "code",
   "execution_count": 4,
   "id": "1e18fdfb",
   "metadata": {},
   "outputs": [],
   "source": [
    "device = torch.device('cuda' if torch.cuda.is_available() else 'cpu')"
   ]
  },
  {
   "cell_type": "code",
   "execution_count": 5,
   "id": "76075bf4",
   "metadata": {},
   "outputs": [
    {
     "ename": "NameError",
     "evalue": "name 'device' is not defined",
     "output_type": "error",
     "traceback": [
      "\u001b[0;31m---------------------------------------------------------------------------\u001b[0m",
      "\u001b[0;31mNameError\u001b[0m                                 Traceback (most recent call last)",
      "Input \u001b[0;32mIn [5]\u001b[0m, in \u001b[0;36m<cell line: 1>\u001b[0;34m()\u001b[0m\n\u001b[0;32m----> 1\u001b[0m model \u001b[38;5;241m=\u001b[39m \u001b[43mHierVAE\u001b[49m\u001b[43m(\u001b[49m\u001b[43margs\u001b[49m\u001b[43m)\u001b[49m\n",
      "File \u001b[0;32m/data/pegasus/not-backed-up/durant/Rotation_Project_2/hgraph2graph/hgraph/hgnn.py:26\u001b[0m, in \u001b[0;36mHierVAE.__init__\u001b[0;34m(self, args)\u001b[0m\n\u001b[1;32m     24\u001b[0m \u001b[38;5;28;01mdef\u001b[39;00m \u001b[38;5;21m__init__\u001b[39m(\u001b[38;5;28mself\u001b[39m, args):\n\u001b[1;32m     25\u001b[0m     \u001b[38;5;28msuper\u001b[39m(HierVAE, \u001b[38;5;28mself\u001b[39m)\u001b[38;5;241m.\u001b[39m\u001b[38;5;21m__init__\u001b[39m()\n\u001b[0;32m---> 26\u001b[0m     \u001b[38;5;28mself\u001b[39m\u001b[38;5;241m.\u001b[39mencoder \u001b[38;5;241m=\u001b[39m \u001b[43mHierMPNEncoder\u001b[49m\u001b[43m(\u001b[49m\u001b[43margs\u001b[49m\u001b[38;5;241;43m.\u001b[39;49m\u001b[43mvocab\u001b[49m\u001b[43m,\u001b[49m\u001b[43m \u001b[49m\u001b[43margs\u001b[49m\u001b[38;5;241;43m.\u001b[39;49m\u001b[43matom_vocab\u001b[49m\u001b[43m,\u001b[49m\u001b[43m \u001b[49m\u001b[43margs\u001b[49m\u001b[38;5;241;43m.\u001b[39;49m\u001b[43mrnn_type\u001b[49m\u001b[43m,\u001b[49m\n\u001b[1;32m     27\u001b[0m \u001b[43m                                  \u001b[49m\u001b[43margs\u001b[49m\u001b[38;5;241;43m.\u001b[39;49m\u001b[43membed_size\u001b[49m\u001b[43m,\u001b[49m\u001b[43m \u001b[49m\u001b[43margs\u001b[49m\u001b[38;5;241;43m.\u001b[39;49m\u001b[43mhidden_size\u001b[49m\u001b[43m,\u001b[49m\u001b[43m \u001b[49m\u001b[43margs\u001b[49m\u001b[38;5;241;43m.\u001b[39;49m\u001b[43mdepthT\u001b[49m\u001b[43m,\u001b[49m\u001b[43m \u001b[49m\u001b[43margs\u001b[49m\u001b[38;5;241;43m.\u001b[39;49m\u001b[43mdepthG\u001b[49m\u001b[43m,\u001b[49m\u001b[43m \u001b[49m\u001b[43margs\u001b[49m\u001b[38;5;241;43m.\u001b[39;49m\u001b[43mdropout\u001b[49m\u001b[43m)\u001b[49m\n\u001b[1;32m     28\u001b[0m     \u001b[38;5;28mself\u001b[39m\u001b[38;5;241m.\u001b[39mdecoder \u001b[38;5;241m=\u001b[39m HierMPNDecoder(args\u001b[38;5;241m.\u001b[39mvocab, args\u001b[38;5;241m.\u001b[39matom_vocab, args\u001b[38;5;241m.\u001b[39mrnn_type, args\u001b[38;5;241m.\u001b[39membed_size,\n\u001b[1;32m     29\u001b[0m                                   args\u001b[38;5;241m.\u001b[39mhidden_size, args\u001b[38;5;241m.\u001b[39mlatent_size, args\u001b[38;5;241m.\u001b[39mditerT, args\u001b[38;5;241m.\u001b[39mditerG, args\u001b[38;5;241m.\u001b[39mdropout)\n\u001b[1;32m     30\u001b[0m     \u001b[38;5;28mself\u001b[39m\u001b[38;5;241m.\u001b[39mencoder\u001b[38;5;241m.\u001b[39mtie_embedding(\u001b[38;5;28mself\u001b[39m\u001b[38;5;241m.\u001b[39mdecoder\u001b[38;5;241m.\u001b[39mhmpn)\n",
      "File \u001b[0;32m/data/pegasus/not-backed-up/durant/Rotation_Project_2/hgraph2graph/hgraph/encoder.py:73\u001b[0m, in \u001b[0;36mHierMPNEncoder.__init__\u001b[0;34m(self, vocab, avocab, rnn_type, embed_size, hidden_size, depthT, depthG, dropout)\u001b[0m\n\u001b[1;32m     62\u001b[0m \u001b[38;5;28mself\u001b[39m\u001b[38;5;241m.\u001b[39mW_c \u001b[38;5;241m=\u001b[39m nn\u001b[38;5;241m.\u001b[39mSequential(\n\u001b[1;32m     63\u001b[0m     nn\u001b[38;5;241m.\u001b[39mLinear(embed_size \u001b[38;5;241m+\u001b[39m hidden_size, hidden_size),\n\u001b[1;32m     64\u001b[0m     nn\u001b[38;5;241m.\u001b[39mReLU(),\n\u001b[1;32m     65\u001b[0m     nn\u001b[38;5;241m.\u001b[39mDropout(dropout)\n\u001b[1;32m     66\u001b[0m )\n\u001b[1;32m     67\u001b[0m \u001b[38;5;28mself\u001b[39m\u001b[38;5;241m.\u001b[39mW_i \u001b[38;5;241m=\u001b[39m nn\u001b[38;5;241m.\u001b[39mSequential(\n\u001b[1;32m     68\u001b[0m     nn\u001b[38;5;241m.\u001b[39mLinear(embed_size \u001b[38;5;241m+\u001b[39m hidden_size, hidden_size),\n\u001b[1;32m     69\u001b[0m     nn\u001b[38;5;241m.\u001b[39mReLU(),\n\u001b[1;32m     70\u001b[0m     nn\u001b[38;5;241m.\u001b[39mDropout(dropout)\n\u001b[1;32m     71\u001b[0m )\n\u001b[0;32m---> 73\u001b[0m \u001b[38;5;28mself\u001b[39m\u001b[38;5;241m.\u001b[39mE_a \u001b[38;5;241m=\u001b[39m torch\u001b[38;5;241m.\u001b[39meye(atom_size)\u001b[38;5;241m.\u001b[39mto(\u001b[43mdevice\u001b[49m)\n\u001b[1;32m     74\u001b[0m \u001b[38;5;28mself\u001b[39m\u001b[38;5;241m.\u001b[39mE_b \u001b[38;5;241m=\u001b[39m torch\u001b[38;5;241m.\u001b[39meye(\u001b[38;5;28mlen\u001b[39m(MolGraph\u001b[38;5;241m.\u001b[39mBOND_LIST))\u001b[38;5;241m.\u001b[39mto(device)\n\u001b[1;32m     75\u001b[0m \u001b[38;5;28mself\u001b[39m\u001b[38;5;241m.\u001b[39mE_apos \u001b[38;5;241m=\u001b[39m torch\u001b[38;5;241m.\u001b[39meye(MolGraph\u001b[38;5;241m.\u001b[39mMAX_POS)\u001b[38;5;241m.\u001b[39mto(device)\n",
      "\u001b[0;31mNameError\u001b[0m: name 'device' is not defined"
     ]
    }
   ],
   "source": [
    "model = HierVAE(args)"
   ]
  },
  {
   "cell_type": "code",
   "execution_count": null,
   "id": "0de0f2f1",
   "metadata": {},
   "outputs": [],
   "source": []
  }
 ],
 "metadata": {
  "kernelspec": {
   "display_name": "Python 3 (ipykernel)",
   "language": "python",
   "name": "python3"
  },
  "language_info": {
   "codemirror_mode": {
    "name": "ipython",
    "version": 3
   },
   "file_extension": ".py",
   "mimetype": "text/x-python",
   "name": "python",
   "nbconvert_exporter": "python",
   "pygments_lexer": "ipython3",
   "version": "3.10.4"
  }
 },
 "nbformat": 4,
 "nbformat_minor": 5
}
