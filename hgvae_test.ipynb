{
 "cells": [
  {
   "cell_type": "code",
   "execution_count": 1,
   "id": "24f6c535",
   "metadata": {},
   "outputs": [
    {
     "name": "stderr",
     "output_type": "stream",
     "text": [
      "/data/pegasus/not-backed-up/durant/miniconda3/envs/hgvae_old/lib/python3.7/site-packages/tqdm/auto.py:22: TqdmWarning: IProgress not found. Please update jupyter and ipywidgets. See https://ipywidgets.readthedocs.io/en/stable/user_install.html\n",
      "  from .autonotebook import tqdm as notebook_tqdm\n"
     ]
    }
   ],
   "source": [
    "import torch\n",
    "import torch.nn as nn\n",
    "import torch.optim as optim\n",
    "import torch.optim.lr_scheduler as lr_scheduler\n",
    "from torch.utils.data import DataLoader\n",
    "\n",
    "import math, random, sys\n",
    "import numpy as np\n",
    "import argparse\n",
    "from tqdm import tqdm\n",
    "\n",
    "from hgraph import *\n",
    "import rdkit\n",
    "from rdkit.Chem.Draw import IPythonConsole\n",
    "import mols2grid\n",
    "import os\n",
    "\n",
    "os.environ[\"CUDA_VISIBLE_DEVICES\"]=\"\"\n",
    "device = torch.device('cuda' if torch.cuda.is_available() else 'cpu')"
   ]
  },
  {
   "cell_type": "code",
   "execution_count": 15,
   "id": "03fffe8b",
   "metadata": {},
   "outputs": [
    {
     "data": {
      "text/plain": [
       "'2019.03.4'"
      ]
     },
     "execution_count": 15,
     "metadata": {},
     "output_type": "execute_result"
    }
   ],
   "source": [
    "from rdkit import rdBase\n",
    "rdBase.rdkitVersion"
   ]
  },
  {
   "cell_type": "code",
   "execution_count": 2,
   "id": "c38220b1",
   "metadata": {},
   "outputs": [],
   "source": [
    "# Replicating argument parsing done in original script\n",
    "parser = argparse.ArgumentParser()\n",
    "parser.add_argument('--myarg1')\n",
    "args = parser.parse_args(['--myarg1', ''])\n",
    "args.vocab = 'data/chembl/vocab.txt' \n",
    "args.model = 'ckpt/chembl-pretrained/model.ckpt'\n",
    "args.nsample = 1000\n",
    "args.atom_vocab = common_atom_vocab\n",
    "args.seed = 7\n",
    "args.rnn_type = 'LSTM'\n",
    "args.hidden_size = 250\n",
    "args.embed_size = 250\n",
    "args.batch_size = 50\n",
    "args.latent_size = 32\n",
    "args.depthT = 15\n",
    "args.depthG = 15\n",
    "args.diterT = 15\n",
    "args.diterG = 3\n",
    "args.dropout = 0.0"
   ]
  },
  {
   "cell_type": "code",
   "execution_count": 3,
   "id": "58f401d2",
   "metadata": {},
   "outputs": [],
   "source": [
    "# Load vocabulary for the model - may be causing issues with generating models down the line\n",
    "with open(args.vocab) as f:\n",
    "    vocab = [x.strip(\"\\r\\n \").split() for x in f]\n",
    "args.vocab = PairVocab(vocab, cuda=False)"
   ]
  },
  {
   "cell_type": "code",
   "execution_count": 4,
   "id": "76075bf4",
   "metadata": {},
   "outputs": [
    {
     "name": "stderr",
     "output_type": "stream",
     "text": [
      "/data/pegasus/not-backed-up/durant/miniconda3/envs/hgvae_old/lib/python3.7/site-packages/torch/nn/_reduction.py:42: UserWarning: size_average and reduce args will be deprecated, please use reduction='sum' instead.\n",
      "  warnings.warn(warning.format(ret))\n"
     ]
    },
    {
     "data": {
      "text/plain": [
       "<All keys matched successfully>"
      ]
     },
     "execution_count": 4,
     "metadata": {},
     "output_type": "execute_result"
    }
   ],
   "source": [
    "# Load model, use pre-generated weights and run on CPU\n",
    "model = HierVAE(args)\n",
    "model.load_state_dict(torch.load(args.model, map_location=torch.device('cpu'))[0])"
   ]
  },
  {
   "cell_type": "code",
   "execution_count": 24,
   "id": "6bf60f80",
   "metadata": {
    "scrolled": true
   },
   "outputs": [
    {
     "ename": "KeyError",
     "evalue": "('C1=N[NH]C=N1', 'C1=NC=N[NH:1]1')",
     "output_type": "error",
     "traceback": [
      "\u001b[0;31m---------------------------------------------------------------------------\u001b[0m",
      "\u001b[0;31mKeyError\u001b[0m                                  Traceback (most recent call last)",
      "\u001b[0;32m/tmp/ipykernel_2917646/399892395.py\u001b[0m in \u001b[0;36m<module>\u001b[0;34m\u001b[0m\n\u001b[1;32m      3\u001b[0m \u001b[0mstart_time\u001b[0m \u001b[0;34m=\u001b[0m \u001b[0mtime\u001b[0m\u001b[0;34m.\u001b[0m\u001b[0mtime\u001b[0m\u001b[0;34m(\u001b[0m\u001b[0;34m)\u001b[0m\u001b[0;34m\u001b[0m\u001b[0;34m\u001b[0m\u001b[0m\n\u001b[1;32m      4\u001b[0m \u001b[0;32mwith\u001b[0m \u001b[0mtorch\u001b[0m\u001b[0;34m.\u001b[0m\u001b[0mno_grad\u001b[0m\u001b[0;34m(\u001b[0m\u001b[0;34m)\u001b[0m\u001b[0;34m:\u001b[0m\u001b[0;34m\u001b[0m\u001b[0;34m\u001b[0m\u001b[0m\n\u001b[0;32m----> 5\u001b[0;31m     \u001b[0msmiles_list\u001b[0m \u001b[0;34m=\u001b[0m \u001b[0mmodel\u001b[0m\u001b[0;34m.\u001b[0m\u001b[0msample\u001b[0m\u001b[0;34m(\u001b[0m\u001b[0;36m100\u001b[0m\u001b[0;34m,\u001b[0m \u001b[0mgreedy\u001b[0m\u001b[0;34m=\u001b[0m\u001b[0;32mTrue\u001b[0m\u001b[0;34m)\u001b[0m\u001b[0;34m\u001b[0m\u001b[0;34m\u001b[0m\u001b[0m\n\u001b[0m\u001b[1;32m      6\u001b[0m \u001b[0mprint\u001b[0m\u001b[0;34m(\u001b[0m\u001b[0;34m\"--- %s seconds ---\"\u001b[0m \u001b[0;34m%\u001b[0m \u001b[0;34m(\u001b[0m\u001b[0mtime\u001b[0m\u001b[0;34m.\u001b[0m\u001b[0mtime\u001b[0m\u001b[0;34m(\u001b[0m\u001b[0;34m)\u001b[0m \u001b[0;34m-\u001b[0m \u001b[0mstart_time\u001b[0m\u001b[0;34m)\u001b[0m\u001b[0;34m)\u001b[0m\u001b[0;34m\u001b[0m\u001b[0;34m\u001b[0m\u001b[0m\n\u001b[1;32m      7\u001b[0m \u001b[0mmols_list\u001b[0m \u001b[0;34m=\u001b[0m \u001b[0;34m[\u001b[0m\u001b[0mrdkit\u001b[0m\u001b[0;34m.\u001b[0m\u001b[0mChem\u001b[0m\u001b[0;34m.\u001b[0m\u001b[0mMolFromSmiles\u001b[0m\u001b[0;34m(\u001b[0m\u001b[0mx\u001b[0m\u001b[0;34m)\u001b[0m \u001b[0;32mfor\u001b[0m \u001b[0mx\u001b[0m \u001b[0;32min\u001b[0m \u001b[0msmiles_list\u001b[0m\u001b[0;34m]\u001b[0m\u001b[0;34m\u001b[0m\u001b[0;34m\u001b[0m\u001b[0m\n",
      "\u001b[0;32m/data/pegasus/not-backed-up/durant/Rotation_Project_2/hgraph2graph/hgraph/hgnn.py\u001b[0m in \u001b[0;36msample\u001b[0;34m(self, batch_size, greedy)\u001b[0m\n\u001b[1;32m     50\u001b[0m     \u001b[0;32mdef\u001b[0m \u001b[0msample\u001b[0m\u001b[0;34m(\u001b[0m\u001b[0mself\u001b[0m\u001b[0;34m,\u001b[0m \u001b[0mbatch_size\u001b[0m\u001b[0;34m,\u001b[0m \u001b[0mgreedy\u001b[0m\u001b[0;34m)\u001b[0m\u001b[0;34m:\u001b[0m\u001b[0;34m\u001b[0m\u001b[0;34m\u001b[0m\u001b[0m\n\u001b[1;32m     51\u001b[0m         \u001b[0mroot_vecs\u001b[0m \u001b[0;34m=\u001b[0m \u001b[0mtorch\u001b[0m\u001b[0;34m.\u001b[0m\u001b[0mrandn\u001b[0m\u001b[0;34m(\u001b[0m\u001b[0mbatch_size\u001b[0m\u001b[0;34m,\u001b[0m \u001b[0mself\u001b[0m\u001b[0;34m.\u001b[0m\u001b[0mlatent_size\u001b[0m\u001b[0;34m)\u001b[0m\u001b[0;34m.\u001b[0m\u001b[0mto\u001b[0m\u001b[0;34m(\u001b[0m\u001b[0mdevice\u001b[0m\u001b[0;34m)\u001b[0m\u001b[0;34m\u001b[0m\u001b[0;34m\u001b[0m\u001b[0m\n\u001b[0;32m---> 52\u001b[0;31m         \u001b[0;32mreturn\u001b[0m \u001b[0mself\u001b[0m\u001b[0;34m.\u001b[0m\u001b[0mdecoder\u001b[0m\u001b[0;34m.\u001b[0m\u001b[0mdecode\u001b[0m\u001b[0;34m(\u001b[0m\u001b[0;34m(\u001b[0m\u001b[0mroot_vecs\u001b[0m\u001b[0;34m,\u001b[0m \u001b[0mroot_vecs\u001b[0m\u001b[0;34m,\u001b[0m \u001b[0mroot_vecs\u001b[0m\u001b[0;34m)\u001b[0m\u001b[0;34m,\u001b[0m \u001b[0mgreedy\u001b[0m\u001b[0;34m=\u001b[0m\u001b[0mgreedy\u001b[0m\u001b[0;34m,\u001b[0m \u001b[0mmax_decode_step\u001b[0m\u001b[0;34m=\u001b[0m\u001b[0;36m150\u001b[0m\u001b[0;34m)\u001b[0m\u001b[0;34m\u001b[0m\u001b[0;34m\u001b[0m\u001b[0m\n\u001b[0m\u001b[1;32m     53\u001b[0m \u001b[0;34m\u001b[0m\u001b[0m\n\u001b[1;32m     54\u001b[0m     \u001b[0;32mdef\u001b[0m \u001b[0mreconstruct\u001b[0m\u001b[0;34m(\u001b[0m\u001b[0mself\u001b[0m\u001b[0;34m,\u001b[0m \u001b[0mbatch\u001b[0m\u001b[0;34m)\u001b[0m\u001b[0;34m:\u001b[0m\u001b[0;34m\u001b[0m\u001b[0;34m\u001b[0m\u001b[0m\n",
      "\u001b[0;32m/data/pegasus/not-backed-up/durant/Rotation_Project_2/hgraph2graph/hgraph/decoder.py\u001b[0m in \u001b[0;36mdecode\u001b[0;34m(self, src_mol_vecs, greedy, max_decode_step, beam)\u001b[0m\n\u001b[1;32m    459\u001b[0m                         \u001b[0mnth_child\u001b[0m \u001b[0;34m=\u001b[0m \u001b[0mtree_batch\u001b[0m\u001b[0;34m.\u001b[0m\u001b[0mgraph\u001b[0m\u001b[0;34m.\u001b[0m\u001b[0min_degree\u001b[0m\u001b[0;34m(\u001b[0m\u001b[0mfa_node\u001b[0m\u001b[0;34m)\u001b[0m\u001b[0;34m\u001b[0m\u001b[0;34m\u001b[0m\u001b[0m\n\u001b[1;32m    460\u001b[0m                         icls = [self.vocab[(smiles, x)][1]\n\u001b[0;32m--> 461\u001b[0;31m                                 for x in anchor_smiles]\n\u001b[0m\u001b[1;32m    462\u001b[0m                         cands = inter_cands if len(attach_points) <= 2 else [\n\u001b[1;32m    463\u001b[0m                             (x[0], x[-1]) for x in inter_cands]\n",
      "\u001b[0;32m/data/pegasus/not-backed-up/durant/Rotation_Project_2/hgraph2graph/hgraph/decoder.py\u001b[0m in \u001b[0;36m<listcomp>\u001b[0;34m(.0)\u001b[0m\n\u001b[1;32m    459\u001b[0m                         \u001b[0mnth_child\u001b[0m \u001b[0;34m=\u001b[0m \u001b[0mtree_batch\u001b[0m\u001b[0;34m.\u001b[0m\u001b[0mgraph\u001b[0m\u001b[0;34m.\u001b[0m\u001b[0min_degree\u001b[0m\u001b[0;34m(\u001b[0m\u001b[0mfa_node\u001b[0m\u001b[0;34m)\u001b[0m\u001b[0;34m\u001b[0m\u001b[0;34m\u001b[0m\u001b[0m\n\u001b[1;32m    460\u001b[0m                         icls = [self.vocab[(smiles, x)][1]\n\u001b[0;32m--> 461\u001b[0;31m                                 for x in anchor_smiles]\n\u001b[0m\u001b[1;32m    462\u001b[0m                         cands = inter_cands if len(attach_points) <= 2 else [\n\u001b[1;32m    463\u001b[0m                             (x[0], x[-1]) for x in inter_cands]\n",
      "\u001b[0;32m/data/pegasus/not-backed-up/durant/Rotation_Project_2/hgraph2graph/hgraph/vocab.py\u001b[0m in \u001b[0;36m__getitem__\u001b[0;34m(self, x)\u001b[0m\n\u001b[1;32m     44\u001b[0m     \u001b[0;32mdef\u001b[0m \u001b[0m__getitem__\u001b[0m\u001b[0;34m(\u001b[0m\u001b[0mself\u001b[0m\u001b[0;34m,\u001b[0m \u001b[0mx\u001b[0m\u001b[0;34m)\u001b[0m\u001b[0;34m:\u001b[0m\u001b[0;34m\u001b[0m\u001b[0;34m\u001b[0m\u001b[0m\n\u001b[1;32m     45\u001b[0m         \u001b[0;32massert\u001b[0m \u001b[0mtype\u001b[0m\u001b[0;34m(\u001b[0m\u001b[0mx\u001b[0m\u001b[0;34m)\u001b[0m \u001b[0;32mis\u001b[0m \u001b[0mtuple\u001b[0m\u001b[0;34m\u001b[0m\u001b[0;34m\u001b[0m\u001b[0m\n\u001b[0;32m---> 46\u001b[0;31m         \u001b[0;32mreturn\u001b[0m \u001b[0mself\u001b[0m\u001b[0;34m.\u001b[0m\u001b[0mhmap\u001b[0m\u001b[0;34m[\u001b[0m\u001b[0mx\u001b[0m\u001b[0;34m[\u001b[0m\u001b[0;36m0\u001b[0m\u001b[0;34m]\u001b[0m\u001b[0;34m]\u001b[0m\u001b[0;34m,\u001b[0m \u001b[0mself\u001b[0m\u001b[0;34m.\u001b[0m\u001b[0mvmap\u001b[0m\u001b[0;34m[\u001b[0m\u001b[0mx\u001b[0m\u001b[0;34m]\u001b[0m\u001b[0;34m\u001b[0m\u001b[0;34m\u001b[0m\u001b[0m\n\u001b[0m\u001b[1;32m     47\u001b[0m \u001b[0;34m\u001b[0m\u001b[0m\n\u001b[1;32m     48\u001b[0m     \u001b[0;32mdef\u001b[0m \u001b[0mget_smiles\u001b[0m\u001b[0;34m(\u001b[0m\u001b[0mself\u001b[0m\u001b[0;34m,\u001b[0m \u001b[0midx\u001b[0m\u001b[0;34m)\u001b[0m\u001b[0;34m:\u001b[0m\u001b[0;34m\u001b[0m\u001b[0;34m\u001b[0m\u001b[0m\n",
      "\u001b[0;31mKeyError\u001b[0m: ('C1=N[NH]C=N1', 'C1=NC=N[NH:1]1')"
     ]
    }
   ],
   "source": [
    "# Test, will throw an error sometimes about a specific key pair = KeyError: ('C1=NN=C[NH]1', 'C1=NN=[CH:1]N1')\n",
    "import time\n",
    "start_time = time.time()\n",
    "with torch.no_grad():\n",
    "    smiles_list = model.sample(100, greedy=True)\n",
    "print(\"--- %s seconds ---\" % (time.time() - start_time))\n",
    "mols_list = [rdkit.Chem.MolFromSmiles(x) for x in smiles_list]\n",
    "mols2grid.display(mols_list)"
   ]
  },
  {
   "cell_type": "markdown",
   "id": "950cda40",
   "metadata": {},
   "source": [
    "# Converts random latent space into molecule"
   ]
  },
  {
   "cell_type": "code",
   "execution_count": 6,
   "id": "1ce5bc12",
   "metadata": {},
   "outputs": [],
   "source": [
    "def generate_random_latent_space():\n",
    "    return torch.randn(1, 32).to(device)"
   ]
  },
  {
   "cell_type": "code",
   "execution_count": 7,
   "id": "94383629",
   "metadata": {},
   "outputs": [],
   "source": [
    "def generate_random_molecule():\n",
    "    smiles = model.decoder.decode((\n",
    "        generate_random_latent_space(),\n",
    "        generate_random_latent_space(),\n",
    "        generate_random_latent_space()),\n",
    "        greedy=True,\n",
    "        max_decode_step=150)\n",
    "    return rdkit.Chem.MolFromSmiles(smiles[0])"
   ]
  },
  {
   "cell_type": "code",
   "execution_count": 8,
   "id": "f8d9b714",
   "metadata": {},
   "outputs": [
    {
     "data": {
      "image/png": "[encoded data removed]",
      "text/plain": [
       "<rdkit.Chem.rdchem.Mol at 0x7f95a8071b20>"
      ]
     },
     "execution_count": 8,
     "metadata": {},
     "output_type": "execute_result"
    }
   ],
   "source": [
    "generate_random_molecule()"
   ]
  },
  {
   "cell_type": "markdown",
   "id": "592b31e1",
   "metadata": {},
   "source": [
    "# To convert molecule into latent space "
   ]
  },
  {
   "cell_type": "code",
   "execution_count": 9,
   "id": "e8c66814",
   "metadata": {},
   "outputs": [],
   "source": [
    "from preprocess import tensorize\n",
    "from hgraph.hgnn import make_cuda"
   ]
  },
  {
   "cell_type": "code",
   "execution_count": 10,
   "id": "1d14cc81",
   "metadata": {},
   "outputs": [],
   "source": [
    "def generate_latent_space_for_mol(model_, smiles):\n",
    "    molecule_tensor = tensorize(smiles, args.vocab)\n",
    "    tree_tensors, graph_tensors = make_cuda(molecule_tensor[1])\n",
    "    root_vecs, tree_vecs, _, graph_vecs = model_.encoder(tree_tensors, graph_tensors)\n",
    "    vectors, _ = model_.rsample(root_vecs, model_.R_mean, model_.R_var, perturb=False)\n",
    "    return vectors"
   ]
  },
  {
   "cell_type": "code",
   "execution_count": 11,
   "id": "adfa9ca2",
   "metadata": {},
   "outputs": [],
   "source": [
    "def generate_specific_molecule(latent_space_vec):\n",
    "    smiles = model.decoder.decode(\n",
    "        (latent_space_vec,\n",
    "        latent_space_vec,\n",
    "        latent_space_vec),\n",
    "        greedy=True,\n",
    "        max_decode_step=150)\n",
    "    return [rdkit.Chem.MolFromSmiles(s) for s in smiles]"
   ]
  },
  {
   "cell_type": "code",
   "execution_count": 12,
   "id": "d950dbbc",
   "metadata": {},
   "outputs": [
    {
     "data": {
      "image/png": "[encoded data removed]",
      "text/plain": [
       "<rdkit.Chem.rdchem.Mol at 0x7f95c8dddf80>"
      ]
     },
     "execution_count": 12,
     "metadata": {},
     "output_type": "execute_result"
    }
   ],
   "source": [
    "test = [rdkit.Chem.MolToSmiles(generate_random_molecule())]\n",
    "rdkit.Chem.MolFromSmiles(test[0])"
   ]
  },
  {
   "cell_type": "code",
   "execution_count": 13,
   "id": "7eab2183",
   "metadata": {},
   "outputs": [
    {
     "name": "stdout",
     "output_type": "stream",
     "text": [
      "tensor([[-1.0548e-01,  1.9819e-01, -1.3363e-03,  7.9216e-01, -1.9361e-02,\n",
      "         -8.5890e-02,  9.5607e-03,  2.2267e-01,  2.5288e-02,  1.5908e-01,\n",
      "          1.0545e+00,  1.4707e+00,  6.2923e-01, -1.5783e-01, -3.3551e-02,\n",
      "         -1.5546e+00, -1.9641e+00,  2.8022e-02, -5.4502e-01, -2.8557e-01,\n",
      "          1.7204e+00,  1.3731e-02,  3.1429e-01, -1.7190e+00, -1.0763e-01,\n",
      "         -7.1993e-02, -6.3123e-04, -5.7473e-01, -1.4041e-02, -1.9613e-03,\n",
      "         -2.4158e-01,  7.9370e-02]], grad_fn=<AddmmBackward0>)\n"
     ]
    }
   ],
   "source": [
    "test_vec = generate_latent_space_for_mol(model, test)\n",
    "print(test_vec)"
   ]
  },
  {
   "cell_type": "code",
   "execution_count": 14,
   "id": "b4b28f1a",
   "metadata": {},
   "outputs": [
    {
     "data": {
      "image/png": "[encoded data removed]",
      "text/plain": [
       "<rdkit.Chem.rdchem.Mol at 0x7f96782f9d50>"
      ]
     },
     "execution_count": 14,
     "metadata": {},
     "output_type": "execute_result"
    }
   ],
   "source": [
    "generate_specific_molecule(test_vec)[0]"
   ]
  },
  {
   "cell_type": "markdown",
   "id": "4394bec3",
   "metadata": {},
   "source": [
    "# Test with Mpro dataset"
   ]
  },
  {
   "cell_type": "code",
   "execution_count": 17,
   "id": "ebef6b7e",
   "metadata": {},
   "outputs": [],
   "source": [
    "import pandas as pd\n",
    "import umap.umap_ as umap\n",
    "import matplotlib.pyplot as plt\n",
    "from rdkit.Chem import AllChem"
   ]
  },
  {
   "cell_type": "code",
   "execution_count": 18,
   "id": "884dc584",
   "metadata": {},
   "outputs": [],
   "source": [
    "def generate_fp(smiles_list):\n",
    "    return [AllChem.GetMorganFingerprintAsBitVect(rdkit.Chem.MolFromSmiles(smi),2) for smi in smiles_list]"
   ]
  },
  {
   "cell_type": "code",
   "execution_count": 19,
   "id": "72eb6d1f",
   "metadata": {},
   "outputs": [
    {
     "name": "stdout",
     "output_type": "stream",
     "text": [
      "2261\n"
     ]
    },
    {
     "name": "stderr",
     "output_type": "stream",
     "text": [
      "/data/pegasus/not-backed-up/durant/miniconda3/envs/hgvae_old/lib/python3.7/site-packages/IPython/core/interactiveshell.py:3553: DtypeWarning: Columns (3,9,20,21,22) have mixed types.Specify dtype option on import or set low_memory=False.\n",
      "  exec(code_obj, self.user_global_ns, self.user_ns)\n"
     ]
    }
   ],
   "source": [
    "raw_mpro_df = pd.read_csv('submissions.csv')\n",
    "raw_mpro_df = raw_mpro_df[raw_mpro_df['f_avg_IC50'].notna()]\n",
    "mpro_smiles = list(raw_mpro_df['SMILES'].values)\n",
    "print(len(mpro_smiles))"
   ]
  },
  {
   "cell_type": "code",
   "execution_count": 20,
   "id": "6a4ed8c2",
   "metadata": {},
   "outputs": [
    {
     "data": {
      "text/plain": [
       "['N#Cc1cccc(NC(=O)Nc2cncc(N)c2)c1',\n",
       " 'N#Cc1cccc(NC(=O)Nc2c[nH]c3ncccc23)c1',\n",
       " 'N#Cc1cccc(NC(=O)Cc2cncc3ccccc23)c1',\n",
       " 'O=C(Cc1cncc2ccccc12)Nc1ccccc1',\n",
       " 'N#Cc1cc(Cl)cc(NC(=O)Nc2cccnc2)c1']"
      ]
     },
     "execution_count": 20,
     "metadata": {},
     "output_type": "execute_result"
    }
   ],
   "source": [
    "mpro_smiles[:5]"
   ]
  },
  {
   "cell_type": "code",
   "execution_count": 21,
   "id": "225e58dc",
   "metadata": {},
   "outputs": [],
   "source": [
    "def remove_hydrogens(smiles):\n",
    "    mol = rdkit.Chem.MolFromSmiles(smiles)\n",
    "    noH_mol = rdkit.Chem.RemoveHs(mol)\n",
    "    return rdkit.Chem.MolToSmiles(noH_mol)\n",
    "\n",
    "mpro_smiles = [remove_hydrogens(s) for s in mpro_smiles]"
   ]
  },
  {
   "cell_type": "code",
   "execution_count": 33,
   "id": "a98e17e8",
   "metadata": {},
   "outputs": [],
   "source": [
    "def remove_troublesome_fragments(smiles_list):\n",
    "    bad_mols = []\n",
    "    bad_smile_frags = [\n",
    "        'C1=CNN=N1',\n",
    "        'C1=CNN=C1',\n",
    "        \"C1=CNC=C1\",\n",
    "        'C1=CNC=N1',\n",
    "        'C1=NN=NN1',\n",
    "        'C1=CC[SH]=C1',\n",
    "        'C1=NN=CN1',\n",
    "        'C1=CN=C[NH+]=C1', \n",
    "        'C1=NC=NO1', \n",
    "        'C1=C[SH]=CC1',\n",
    "        'C1CCOC1',\n",
    "        'SS',\n",
    "    ]\n",
    "    for s in smiles_list:\n",
    "        for b in bad_smile_frags:\n",
    "            patt = rdkit.Chem.MolFromSmiles(b)\n",
    "            if len(rdkit.Chem.MolFromSmiles(s).GetSubstructMatch(patt)) > 0:\n",
    "                bad_mols.append(s)\n",
    "    return [remove_hydrogens(s) for s in smiles_list if s not in bad_mols], bad_mols"
   ]
  },
  {
   "cell_type": "code",
   "execution_count": 34,
   "id": "8a1ef803",
   "metadata": {},
   "outputs": [],
   "source": [
    "mpro_smiles, bad_smiles = remove_troublesome_fragments(mpro_smiles)"
   ]
  },
  {
   "cell_type": "code",
   "execution_count": 35,
   "id": "4d046f7b",
   "metadata": {},
   "outputs": [
    {
     "ename": "ValueError",
     "evalue": "list.remove(x): x not in list",
     "output_type": "error",
     "traceback": [
      "\u001b[0;31m---------------------------------------------------------------------------\u001b[0m",
      "\u001b[0;31mValueError\u001b[0m                                Traceback (most recent call last)",
      "\u001b[0;32m/tmp/ipykernel_748636/4074310048.py\u001b[0m in \u001b[0;36m<module>\u001b[0;34m\u001b[0m\n\u001b[0;32m----> 1\u001b[0;31m \u001b[0mmpro_smiles\u001b[0m\u001b[0;34m.\u001b[0m\u001b[0mremove\u001b[0m\u001b[0;34m(\u001b[0m\u001b[0;34m'[2H]C([2H])([2H])O[C@@]1(C(=O)Nc2cncc3ccc(F)cc23)CCOc2ccc(Cl)cc21'\u001b[0m\u001b[0;34m)\u001b[0m\u001b[0;34m\u001b[0m\u001b[0;34m\u001b[0m\u001b[0m\n\u001b[0m",
      "\u001b[0;31mValueError\u001b[0m: list.remove(x): x not in list"
     ]
    }
   ],
   "source": [
    "mpro_smiles.remove('[2H]C([2H])([2H])O[C@@]1(C(=O)Nc2cncc3ccc(F)cc23)CCOc2ccc(Cl)cc21')"
   ]
  },
  {
   "cell_type": "code",
   "execution_count": 36,
   "id": "949a95bd",
   "metadata": {},
   "outputs": [
    {
     "ename": "ValueError",
     "evalue": "list.remove(x): x not in list",
     "output_type": "error",
     "traceback": [
      "\u001b[0;31m---------------------------------------------------------------------------\u001b[0m",
      "\u001b[0;31mValueError\u001b[0m                                Traceback (most recent call last)",
      "\u001b[0;32m/tmp/ipykernel_748636/629712990.py\u001b[0m in \u001b[0;36m<module>\u001b[0;34m\u001b[0m\n\u001b[0;32m----> 1\u001b[0;31m \u001b[0mmpro_smiles\u001b[0m\u001b[0;34m.\u001b[0m\u001b[0mremove\u001b[0m\u001b[0;34m(\u001b[0m\u001b[0;34m'[2H]C([2H])([2H])O[C@@]1(C(=O)Nc2cncc3ccccc23)CCOc2ccc(Cl)cc21'\u001b[0m\u001b[0;34m)\u001b[0m\u001b[0;34m\u001b[0m\u001b[0;34m\u001b[0m\u001b[0m\n\u001b[0m",
      "\u001b[0;31mValueError\u001b[0m: list.remove(x): x not in list"
     ]
    }
   ],
   "source": [
    "mpro_smiles.remove('[2H]C([2H])([2H])O[C@@]1(C(=O)Nc2cncc3ccccc23)CCOc2ccc(Cl)cc21')"
   ]
  },
  {
   "cell_type": "code",
   "execution_count": 37,
   "id": "e624ef30",
   "metadata": {},
   "outputs": [
    {
     "name": "stdout",
     "output_type": "stream",
     "text": [
      "1724\n",
      "585\n"
     ]
    }
   ],
   "source": [
    "print(len(mpro_smiles))\n",
    "print(len(bad_smiles))"
   ]
  },
  {
   "cell_type": "code",
   "execution_count": 38,
   "id": "e5fd22ff",
   "metadata": {},
   "outputs": [],
   "source": [
    "# sub_mpro_smiles = mpro_smiles[23:53]\n",
    "# sub_mpro_smiles = mpro_smiles[23:33]\n",
    "FP_binary_all_atoms = generate_fp(mpro_smiles)"
   ]
  },
  {
   "cell_type": "code",
   "execution_count": 39,
   "id": "a74d041d",
   "metadata": {},
   "outputs": [
    {
     "ename": "KeyboardInterrupt",
     "evalue": "",
     "output_type": "error",
     "traceback": [
      "\u001b[0;31m---------------------------------------------------------------------------\u001b[0m",
      "\u001b[0;31mKeyboardInterrupt\u001b[0m                         Traceback (most recent call last)",
      "\u001b[0;32m/tmp/ipykernel_748636/135419928.py\u001b[0m in \u001b[0;36m<module>\u001b[0;34m\u001b[0m\n\u001b[0;32m----> 1\u001b[0;31m \u001b[0mmpro_vec\u001b[0m \u001b[0;34m=\u001b[0m \u001b[0mgenerate_latent_space_for_mol\u001b[0m\u001b[0;34m(\u001b[0m\u001b[0mmodel\u001b[0m\u001b[0;34m,\u001b[0m \u001b[0mmpro_smiles\u001b[0m\u001b[0;34m)\u001b[0m\u001b[0;34m\u001b[0m\u001b[0;34m\u001b[0m\u001b[0m\n\u001b[0m\u001b[1;32m      2\u001b[0m \u001b[0mmpro_vec_detached\u001b[0m \u001b[0;34m=\u001b[0m \u001b[0mmpro_vec\u001b[0m\u001b[0;34m.\u001b[0m\u001b[0mdetach\u001b[0m\u001b[0;34m(\u001b[0m\u001b[0;34m)\u001b[0m\u001b[0;34m.\u001b[0m\u001b[0mnumpy\u001b[0m\u001b[0;34m(\u001b[0m\u001b[0;34m)\u001b[0m\u001b[0;34m\u001b[0m\u001b[0;34m\u001b[0m\u001b[0m\n",
      "\u001b[0;32m/tmp/ipykernel_748636/2617896008.py\u001b[0m in \u001b[0;36mgenerate_latent_space_for_mol\u001b[0;34m(model_, smiles)\u001b[0m\n\u001b[1;32m      1\u001b[0m \u001b[0;32mdef\u001b[0m \u001b[0mgenerate_latent_space_for_mol\u001b[0m\u001b[0;34m(\u001b[0m\u001b[0mmodel_\u001b[0m\u001b[0;34m,\u001b[0m \u001b[0msmiles\u001b[0m\u001b[0;34m)\u001b[0m\u001b[0;34m:\u001b[0m\u001b[0;34m\u001b[0m\u001b[0;34m\u001b[0m\u001b[0m\n\u001b[0;32m----> 2\u001b[0;31m     \u001b[0mmolecule_tensor\u001b[0m \u001b[0;34m=\u001b[0m \u001b[0mtensorize\u001b[0m\u001b[0;34m(\u001b[0m\u001b[0msmiles\u001b[0m\u001b[0;34m,\u001b[0m \u001b[0margs\u001b[0m\u001b[0;34m.\u001b[0m\u001b[0mvocab\u001b[0m\u001b[0;34m)\u001b[0m\u001b[0;34m\u001b[0m\u001b[0;34m\u001b[0m\u001b[0m\n\u001b[0m\u001b[1;32m      3\u001b[0m     \u001b[0mtree_tensors\u001b[0m\u001b[0;34m,\u001b[0m \u001b[0mgraph_tensors\u001b[0m \u001b[0;34m=\u001b[0m \u001b[0mmake_cuda\u001b[0m\u001b[0;34m(\u001b[0m\u001b[0mmolecule_tensor\u001b[0m\u001b[0;34m[\u001b[0m\u001b[0;36m1\u001b[0m\u001b[0;34m]\u001b[0m\u001b[0;34m)\u001b[0m\u001b[0;34m\u001b[0m\u001b[0;34m\u001b[0m\u001b[0m\n\u001b[1;32m      4\u001b[0m     \u001b[0mroot_vecs\u001b[0m\u001b[0;34m,\u001b[0m \u001b[0mtree_vecs\u001b[0m\u001b[0;34m,\u001b[0m \u001b[0m_\u001b[0m\u001b[0;34m,\u001b[0m \u001b[0mgraph_vecs\u001b[0m \u001b[0;34m=\u001b[0m \u001b[0mmodel_\u001b[0m\u001b[0;34m.\u001b[0m\u001b[0mencoder\u001b[0m\u001b[0;34m(\u001b[0m\u001b[0mtree_tensors\u001b[0m\u001b[0;34m,\u001b[0m \u001b[0mgraph_tensors\u001b[0m\u001b[0;34m)\u001b[0m\u001b[0;34m\u001b[0m\u001b[0;34m\u001b[0m\u001b[0m\n\u001b[1;32m      5\u001b[0m     \u001b[0mvectors\u001b[0m\u001b[0;34m,\u001b[0m \u001b[0m_\u001b[0m \u001b[0;34m=\u001b[0m \u001b[0mmodel_\u001b[0m\u001b[0;34m.\u001b[0m\u001b[0mrsample\u001b[0m\u001b[0;34m(\u001b[0m\u001b[0mroot_vecs\u001b[0m\u001b[0;34m,\u001b[0m \u001b[0mmodel_\u001b[0m\u001b[0;34m.\u001b[0m\u001b[0mR_mean\u001b[0m\u001b[0;34m,\u001b[0m \u001b[0mmodel_\u001b[0m\u001b[0;34m.\u001b[0m\u001b[0mR_var\u001b[0m\u001b[0;34m,\u001b[0m \u001b[0mperturb\u001b[0m\u001b[0;34m=\u001b[0m\u001b[0;32mFalse\u001b[0m\u001b[0;34m)\u001b[0m\u001b[0;34m\u001b[0m\u001b[0;34m\u001b[0m\u001b[0m\n",
      "\u001b[0;32m/data/pegasus/not-backed-up/durant/Rotation_Project_2/hgraph2graph/preprocess.py\u001b[0m in \u001b[0;36mtensorize\u001b[0;34m(mol_batch, vocab)\u001b[0m\n\u001b[1;32m     17\u001b[0m \u001b[0;34m\u001b[0m\u001b[0m\n\u001b[1;32m     18\u001b[0m \u001b[0;32mdef\u001b[0m \u001b[0mtensorize\u001b[0m\u001b[0;34m(\u001b[0m\u001b[0mmol_batch\u001b[0m\u001b[0;34m,\u001b[0m \u001b[0mvocab\u001b[0m\u001b[0;34m)\u001b[0m\u001b[0;34m:\u001b[0m\u001b[0;34m\u001b[0m\u001b[0;34m\u001b[0m\u001b[0m\n\u001b[0;32m---> 19\u001b[0;31m     \u001b[0mx\u001b[0m \u001b[0;34m=\u001b[0m \u001b[0mMolGraph\u001b[0m\u001b[0;34m.\u001b[0m\u001b[0mtensorize\u001b[0m\u001b[0;34m(\u001b[0m\u001b[0mmol_batch\u001b[0m\u001b[0;34m,\u001b[0m \u001b[0mvocab\u001b[0m\u001b[0;34m,\u001b[0m \u001b[0mcommon_atom_vocab\u001b[0m\u001b[0;34m)\u001b[0m\u001b[0;34m\u001b[0m\u001b[0;34m\u001b[0m\u001b[0m\n\u001b[0m\u001b[1;32m     20\u001b[0m     \u001b[0;32mreturn\u001b[0m \u001b[0mto_numpy\u001b[0m\u001b[0;34m(\u001b[0m\u001b[0mx\u001b[0m\u001b[0;34m)\u001b[0m\u001b[0;34m\u001b[0m\u001b[0;34m\u001b[0m\u001b[0m\n\u001b[1;32m     21\u001b[0m \u001b[0;34m\u001b[0m\u001b[0m\n",
      "\u001b[0;32m/data/pegasus/not-backed-up/durant/Rotation_Project_2/hgraph2graph/hgraph/mol_graph.py\u001b[0m in \u001b[0;36mtensorize\u001b[0;34m(mol_batch, vocab, avocab)\u001b[0m\n\u001b[1;32m    152\u001b[0m         \u001b[0mmol_batch\u001b[0m \u001b[0;34m=\u001b[0m \u001b[0;34m[\u001b[0m\u001b[0mMolGraph\u001b[0m\u001b[0;34m(\u001b[0m\u001b[0mx\u001b[0m\u001b[0;34m)\u001b[0m \u001b[0;32mfor\u001b[0m \u001b[0mx\u001b[0m \u001b[0;32min\u001b[0m \u001b[0mmol_batch\u001b[0m\u001b[0;34m]\u001b[0m\u001b[0;34m\u001b[0m\u001b[0;34m\u001b[0m\u001b[0m\n\u001b[1;32m    153\u001b[0m         \u001b[0mtree_tensors\u001b[0m\u001b[0;34m,\u001b[0m \u001b[0mtree_batchG\u001b[0m \u001b[0;34m=\u001b[0m \u001b[0mMolGraph\u001b[0m\u001b[0;34m.\u001b[0m\u001b[0mtensorize_graph\u001b[0m\u001b[0;34m(\u001b[0m\u001b[0;34m[\u001b[0m\u001b[0mx\u001b[0m\u001b[0;34m.\u001b[0m\u001b[0mmol_tree\u001b[0m \u001b[0;32mfor\u001b[0m \u001b[0mx\u001b[0m \u001b[0;32min\u001b[0m \u001b[0mmol_batch\u001b[0m\u001b[0;34m]\u001b[0m\u001b[0;34m,\u001b[0m \u001b[0mvocab\u001b[0m\u001b[0;34m)\u001b[0m\u001b[0;34m\u001b[0m\u001b[0;34m\u001b[0m\u001b[0m\n\u001b[0;32m--> 154\u001b[0;31m         \u001b[0mgraph_tensors\u001b[0m\u001b[0;34m,\u001b[0m \u001b[0mgraph_batchG\u001b[0m \u001b[0;34m=\u001b[0m \u001b[0mMolGraph\u001b[0m\u001b[0;34m.\u001b[0m\u001b[0mtensorize_graph\u001b[0m\u001b[0;34m(\u001b[0m\u001b[0;34m[\u001b[0m\u001b[0mx\u001b[0m\u001b[0;34m.\u001b[0m\u001b[0mmol_graph\u001b[0m \u001b[0;32mfor\u001b[0m \u001b[0mx\u001b[0m \u001b[0;32min\u001b[0m \u001b[0mmol_batch\u001b[0m\u001b[0;34m]\u001b[0m\u001b[0;34m,\u001b[0m \u001b[0mavocab\u001b[0m\u001b[0;34m)\u001b[0m\u001b[0;34m\u001b[0m\u001b[0;34m\u001b[0m\u001b[0m\n\u001b[0m\u001b[1;32m    155\u001b[0m         \u001b[0mtree_scope\u001b[0m \u001b[0;34m=\u001b[0m \u001b[0mtree_tensors\u001b[0m\u001b[0;34m[\u001b[0m\u001b[0;34m-\u001b[0m\u001b[0;36m1\u001b[0m\u001b[0;34m]\u001b[0m\u001b[0;34m\u001b[0m\u001b[0;34m\u001b[0m\u001b[0m\n\u001b[1;32m    156\u001b[0m         \u001b[0mgraph_scope\u001b[0m \u001b[0;34m=\u001b[0m \u001b[0mgraph_tensors\u001b[0m\u001b[0;34m[\u001b[0m\u001b[0;34m-\u001b[0m\u001b[0;36m1\u001b[0m\u001b[0;34m]\u001b[0m\u001b[0;34m\u001b[0m\u001b[0;34m\u001b[0m\u001b[0m\n",
      "\u001b[0;32m/data/pegasus/not-backed-up/durant/Rotation_Project_2/hgraph2graph/hgraph/mol_graph.py\u001b[0m in \u001b[0;36mtensorize_graph\u001b[0;34m(graph_batch, vocab)\u001b[0m\n\u001b[1;32m    216\u001b[0m         \u001b[0magraph\u001b[0m \u001b[0;34m=\u001b[0m \u001b[0mcreate_pad_tensor\u001b[0m\u001b[0;34m(\u001b[0m\u001b[0magraph\u001b[0m\u001b[0;34m)\u001b[0m\u001b[0;34m\u001b[0m\u001b[0;34m\u001b[0m\u001b[0m\n\u001b[1;32m    217\u001b[0m         \u001b[0mbgraph\u001b[0m \u001b[0;34m=\u001b[0m \u001b[0mcreate_pad_tensor\u001b[0m\u001b[0;34m(\u001b[0m\u001b[0mbgraph\u001b[0m\u001b[0;34m)\u001b[0m\u001b[0;34m\u001b[0m\u001b[0;34m\u001b[0m\u001b[0m\n\u001b[0;32m--> 218\u001b[0;31m         \u001b[0;32mreturn\u001b[0m \u001b[0;34m(\u001b[0m\u001b[0mfnode\u001b[0m\u001b[0;34m,\u001b[0m \u001b[0mfmess\u001b[0m\u001b[0;34m,\u001b[0m \u001b[0magraph\u001b[0m\u001b[0;34m,\u001b[0m \u001b[0mbgraph\u001b[0m\u001b[0;34m,\u001b[0m \u001b[0mscope\u001b[0m\u001b[0;34m)\u001b[0m\u001b[0;34m,\u001b[0m \u001b[0mnx\u001b[0m\u001b[0;34m.\u001b[0m\u001b[0munion_all\u001b[0m\u001b[0;34m(\u001b[0m\u001b[0mall_G\u001b[0m\u001b[0;34m)\u001b[0m\u001b[0;34m\u001b[0m\u001b[0;34m\u001b[0m\u001b[0m\n\u001b[0m\u001b[1;32m    219\u001b[0m \u001b[0;34m\u001b[0m\u001b[0m\n\u001b[1;32m    220\u001b[0m \u001b[0;32mif\u001b[0m \u001b[0m__name__\u001b[0m \u001b[0;34m==\u001b[0m \u001b[0;34m\"__main__\"\u001b[0m\u001b[0;34m:\u001b[0m\u001b[0;34m\u001b[0m\u001b[0;34m\u001b[0m\u001b[0m\n",
      "\u001b[0;32m/data/pegasus/not-backed-up/durant/miniconda3/envs/hgvae_old/lib/python3.7/site-packages/networkx/algorithms/operators/all.py\u001b[0m in \u001b[0;36munion_all\u001b[0;34m(graphs, rename)\u001b[0m\n\u001b[1;32m     50\u001b[0m     \u001b[0mU\u001b[0m\u001b[0;34m,\u001b[0m \u001b[0mgname\u001b[0m \u001b[0;34m=\u001b[0m \u001b[0mnext\u001b[0m\u001b[0;34m(\u001b[0m\u001b[0mgraphs_names\u001b[0m\u001b[0;34m)\u001b[0m\u001b[0;34m\u001b[0m\u001b[0;34m\u001b[0m\u001b[0m\n\u001b[1;32m     51\u001b[0m     \u001b[0;32mfor\u001b[0m \u001b[0mH\u001b[0m\u001b[0;34m,\u001b[0m \u001b[0mhname\u001b[0m \u001b[0;32min\u001b[0m \u001b[0mgraphs_names\u001b[0m\u001b[0;34m:\u001b[0m\u001b[0;34m\u001b[0m\u001b[0;34m\u001b[0m\u001b[0m\n\u001b[0;32m---> 52\u001b[0;31m         \u001b[0mU\u001b[0m \u001b[0;34m=\u001b[0m \u001b[0mnx\u001b[0m\u001b[0;34m.\u001b[0m\u001b[0munion\u001b[0m\u001b[0;34m(\u001b[0m\u001b[0mU\u001b[0m\u001b[0;34m,\u001b[0m \u001b[0mH\u001b[0m\u001b[0;34m,\u001b[0m \u001b[0;34m(\u001b[0m\u001b[0mgname\u001b[0m\u001b[0;34m,\u001b[0m \u001b[0mhname\u001b[0m\u001b[0;34m)\u001b[0m\u001b[0;34m)\u001b[0m\u001b[0;34m\u001b[0m\u001b[0;34m\u001b[0m\u001b[0m\n\u001b[0m\u001b[1;32m     53\u001b[0m         \u001b[0mgname\u001b[0m \u001b[0;34m=\u001b[0m \u001b[0;32mNone\u001b[0m\u001b[0;34m\u001b[0m\u001b[0;34m\u001b[0m\u001b[0m\n\u001b[1;32m     54\u001b[0m     \u001b[0;32mreturn\u001b[0m \u001b[0mU\u001b[0m\u001b[0;34m\u001b[0m\u001b[0;34m\u001b[0m\u001b[0m\n",
      "\u001b[0;32m/data/pegasus/not-backed-up/durant/miniconda3/envs/hgvae_old/lib/python3.7/site-packages/networkx/algorithms/operators/binary.py\u001b[0m in \u001b[0;36munion\u001b[0;34m(G, H, rename, name)\u001b[0m\n\u001b[1;32m     96\u001b[0m     \u001b[0;31m# add node attributes\u001b[0m\u001b[0;34m\u001b[0m\u001b[0;34m\u001b[0m\u001b[0;34m\u001b[0m\u001b[0m\n\u001b[1;32m     97\u001b[0m     \u001b[0;32mfor\u001b[0m \u001b[0mn\u001b[0m \u001b[0;32min\u001b[0m \u001b[0mG\u001b[0m\u001b[0;34m:\u001b[0m\u001b[0;34m\u001b[0m\u001b[0;34m\u001b[0m\u001b[0m\n\u001b[0;32m---> 98\u001b[0;31m         \u001b[0mR\u001b[0m\u001b[0;34m.\u001b[0m\u001b[0mnodes\u001b[0m\u001b[0;34m[\u001b[0m\u001b[0mn\u001b[0m\u001b[0;34m]\u001b[0m\u001b[0;34m.\u001b[0m\u001b[0mupdate\u001b[0m\u001b[0;34m(\u001b[0m\u001b[0mG\u001b[0m\u001b[0;34m.\u001b[0m\u001b[0mnodes\u001b[0m\u001b[0;34m[\u001b[0m\u001b[0mn\u001b[0m\u001b[0;34m]\u001b[0m\u001b[0;34m)\u001b[0m\u001b[0;34m\u001b[0m\u001b[0;34m\u001b[0m\u001b[0m\n\u001b[0m\u001b[1;32m     99\u001b[0m     \u001b[0;32mfor\u001b[0m \u001b[0mn\u001b[0m \u001b[0;32min\u001b[0m \u001b[0mH\u001b[0m\u001b[0;34m:\u001b[0m\u001b[0;34m\u001b[0m\u001b[0;34m\u001b[0m\u001b[0m\n\u001b[1;32m    100\u001b[0m         \u001b[0mR\u001b[0m\u001b[0;34m.\u001b[0m\u001b[0mnodes\u001b[0m\u001b[0;34m[\u001b[0m\u001b[0mn\u001b[0m\u001b[0;34m]\u001b[0m\u001b[0;34m.\u001b[0m\u001b[0mupdate\u001b[0m\u001b[0;34m(\u001b[0m\u001b[0mH\u001b[0m\u001b[0;34m.\u001b[0m\u001b[0mnodes\u001b[0m\u001b[0;34m[\u001b[0m\u001b[0mn\u001b[0m\u001b[0;34m]\u001b[0m\u001b[0;34m)\u001b[0m\u001b[0;34m\u001b[0m\u001b[0;34m\u001b[0m\u001b[0m\n",
      "\u001b[0;32m/data/pegasus/not-backed-up/durant/miniconda3/envs/hgvae_old/lib/python3.7/site-packages/networkx/classes/reportviews.py\u001b[0m in \u001b[0;36m__getitem__\u001b[0;34m(self, n)\u001b[0m\n\u001b[1;32m    186\u001b[0m \u001b[0;34m\u001b[0m\u001b[0m\n\u001b[1;32m    187\u001b[0m     \u001b[0;32mdef\u001b[0m \u001b[0m__getitem__\u001b[0m\u001b[0;34m(\u001b[0m\u001b[0mself\u001b[0m\u001b[0;34m,\u001b[0m \u001b[0mn\u001b[0m\u001b[0;34m)\u001b[0m\u001b[0;34m:\u001b[0m\u001b[0;34m\u001b[0m\u001b[0;34m\u001b[0m\u001b[0m\n\u001b[0;32m--> 188\u001b[0;31m         \u001b[0;32mif\u001b[0m \u001b[0misinstance\u001b[0m\u001b[0;34m(\u001b[0m\u001b[0mn\u001b[0m\u001b[0;34m,\u001b[0m \u001b[0mslice\u001b[0m\u001b[0;34m)\u001b[0m\u001b[0;34m:\u001b[0m\u001b[0;34m\u001b[0m\u001b[0;34m\u001b[0m\u001b[0m\n\u001b[0m\u001b[1;32m    189\u001b[0m             raise nx.NetworkXError(\n\u001b[1;32m    190\u001b[0m                 \u001b[0;34mf\"{type(self).__name__} does not support slicing, \"\u001b[0m\u001b[0;34m\u001b[0m\u001b[0;34m\u001b[0m\u001b[0m\n",
      "\u001b[0;31mKeyboardInterrupt\u001b[0m: "
     ]
    }
   ],
   "source": [
    "mpro_vec = generate_latent_space_for_mol(model, mpro_smiles)\n",
    "mpro_vec_detached = mpro_vec.detach().numpy()"
   ]
  },
  {
   "cell_type": "code",
   "execution_count": null,
   "id": "b235e381",
   "metadata": {},
   "outputs": [],
   "source": [
    "classifier_all_atoms_ = [list(range(0, 1724))]"
   ]
  },
  {
   "cell_type": "code",
   "execution_count": null,
   "id": "d3ca4b39",
   "metadata": {},
   "outputs": [],
   "source": [
    "def plot_umap(features, title, classifier_all_atoms):\n",
    "    reducer = umap.UMAP()\n",
    "    umap_binary_all_atoms = reducer.fit_transform(features)\n",
    "    plt.scatter(umap_binary_all_atoms[:,0],\n",
    "               umap_binary_all_atoms[:,1],\n",
    "               c=classifier_all_atoms, \n",
    "                cmap=\"plasma\")\n",
    "    plt.xlabel('UMAP 1')\n",
    "    plt.ylabel('UMAP 2')\n",
    "    plt.title(title)\n",
    "    plt.show()\n",
    "    return None"
   ]
  },
  {
   "cell_type": "code",
   "execution_count": null,
   "id": "a264c9d3",
   "metadata": {},
   "outputs": [],
   "source": [
    "plot_umap(FP_binary_all_atoms, \"UMAP analysis of Mpro inhibitors' ECFP4 fingerprints\", classifier_all_atoms_)"
   ]
  },
  {
   "cell_type": "code",
   "execution_count": null,
   "id": "91c013f0",
   "metadata": {},
   "outputs": [],
   "source": [
    "plot_umap(mpro_vec_detached, \"UMAP analysis of Mpro inhibitors' latent variables\", classifier_all_atoms_)"
   ]
  },
  {
   "cell_type": "markdown",
   "id": "1e4a2762",
   "metadata": {},
   "source": [
    "# SAMPLING FUNCTIONS"
   ]
  },
  {
   "cell_type": "code",
   "execution_count": 29,
   "id": "d389f48a",
   "metadata": {},
   "outputs": [],
   "source": [
    "def random_sample(matrix):\n",
    "    \"\"\"Randomly samples values between the minimum and maximum values\n",
    "    provided in a matrix and therefore interpolates within the latent\n",
    "    space specified.\n",
    "    \"\"\"\n",
    "    random_sample_latent_space = []\n",
    "    for col in matrix.T:\n",
    "        minimum = min(col)\n",
    "        maximum = max(col)\n",
    "        random_sample_latent_space.append(random.uniform(minimum, maximum))\n",
    "    return np.array(random_sample_latent_space)\n",
    "        "
   ]
  },
  {
   "cell_type": "code",
   "execution_count": 30,
   "id": "f4c5642f",
   "metadata": {},
   "outputs": [],
   "source": [
    "def tensor_to_numpy(latent_tensors):\n",
    "    return latent_tensors.detach().numpy()"
   ]
  },
  {
   "cell_type": "code",
   "execution_count": 31,
   "id": "bd66eb1a",
   "metadata": {},
   "outputs": [],
   "source": [
    "def numpy_to_tensor(latent_arrays):\n",
    "    return torch.from_numpy(latent_arrays)"
   ]
  },
  {
   "cell_type": "code",
   "execution_count": 32,
   "id": "6020ceb8",
   "metadata": {},
   "outputs": [
    {
     "ename": "KeyError",
     "evalue": "'C1=CNN=N1'",
     "output_type": "error",
     "traceback": [
      "\u001b[0;31m---------------------------------------------------------------------------\u001b[0m",
      "\u001b[0;31mKeyError\u001b[0m                                  Traceback (most recent call last)",
      "\u001b[0;32m/tmp/ipykernel_748636/955323070.py\u001b[0m in \u001b[0;36m<module>\u001b[0;34m\u001b[0m\n\u001b[1;32m      1\u001b[0m \u001b[0mmols_to_interpolate\u001b[0m \u001b[0;34m=\u001b[0m \u001b[0mmpro_smiles\u001b[0m\u001b[0;34m\u001b[0m\u001b[0;34m\u001b[0m\u001b[0m\n\u001b[0;32m----> 2\u001b[0;31m \u001b[0mraw_latent_variables\u001b[0m \u001b[0;34m=\u001b[0m \u001b[0mgenerate_latent_space_for_mol\u001b[0m\u001b[0;34m(\u001b[0m\u001b[0mmodel\u001b[0m\u001b[0;34m,\u001b[0m \u001b[0mmols_to_interpolate\u001b[0m\u001b[0;34m)\u001b[0m\u001b[0;34m\u001b[0m\u001b[0;34m\u001b[0m\u001b[0m\n\u001b[0m\u001b[1;32m      3\u001b[0m \u001b[0mnp_latent_variables\u001b[0m \u001b[0;34m=\u001b[0m \u001b[0mtensor_to_numpy\u001b[0m\u001b[0;34m(\u001b[0m\u001b[0mraw_latent_variables\u001b[0m\u001b[0;34m)\u001b[0m\u001b[0;34m\u001b[0m\u001b[0;34m\u001b[0m\u001b[0m\n",
      "\u001b[0;32m/tmp/ipykernel_748636/2617896008.py\u001b[0m in \u001b[0;36mgenerate_latent_space_for_mol\u001b[0;34m(model_, smiles)\u001b[0m\n\u001b[1;32m      1\u001b[0m \u001b[0;32mdef\u001b[0m \u001b[0mgenerate_latent_space_for_mol\u001b[0m\u001b[0;34m(\u001b[0m\u001b[0mmodel_\u001b[0m\u001b[0;34m,\u001b[0m \u001b[0msmiles\u001b[0m\u001b[0;34m)\u001b[0m\u001b[0;34m:\u001b[0m\u001b[0;34m\u001b[0m\u001b[0;34m\u001b[0m\u001b[0m\n\u001b[0;32m----> 2\u001b[0;31m     \u001b[0mmolecule_tensor\u001b[0m \u001b[0;34m=\u001b[0m \u001b[0mtensorize\u001b[0m\u001b[0;34m(\u001b[0m\u001b[0msmiles\u001b[0m\u001b[0;34m,\u001b[0m \u001b[0margs\u001b[0m\u001b[0;34m.\u001b[0m\u001b[0mvocab\u001b[0m\u001b[0;34m)\u001b[0m\u001b[0;34m\u001b[0m\u001b[0;34m\u001b[0m\u001b[0m\n\u001b[0m\u001b[1;32m      3\u001b[0m     \u001b[0mtree_tensors\u001b[0m\u001b[0;34m,\u001b[0m \u001b[0mgraph_tensors\u001b[0m \u001b[0;34m=\u001b[0m \u001b[0mmake_cuda\u001b[0m\u001b[0;34m(\u001b[0m\u001b[0mmolecule_tensor\u001b[0m\u001b[0;34m[\u001b[0m\u001b[0;36m1\u001b[0m\u001b[0;34m]\u001b[0m\u001b[0;34m)\u001b[0m\u001b[0;34m\u001b[0m\u001b[0;34m\u001b[0m\u001b[0m\n\u001b[1;32m      4\u001b[0m     \u001b[0mroot_vecs\u001b[0m\u001b[0;34m,\u001b[0m \u001b[0mtree_vecs\u001b[0m\u001b[0;34m,\u001b[0m \u001b[0m_\u001b[0m\u001b[0;34m,\u001b[0m \u001b[0mgraph_vecs\u001b[0m \u001b[0;34m=\u001b[0m \u001b[0mmodel_\u001b[0m\u001b[0;34m.\u001b[0m\u001b[0mencoder\u001b[0m\u001b[0;34m(\u001b[0m\u001b[0mtree_tensors\u001b[0m\u001b[0;34m,\u001b[0m \u001b[0mgraph_tensors\u001b[0m\u001b[0;34m)\u001b[0m\u001b[0;34m\u001b[0m\u001b[0;34m\u001b[0m\u001b[0m\n\u001b[1;32m      5\u001b[0m     \u001b[0mvectors\u001b[0m\u001b[0;34m,\u001b[0m \u001b[0m_\u001b[0m \u001b[0;34m=\u001b[0m \u001b[0mmodel_\u001b[0m\u001b[0;34m.\u001b[0m\u001b[0mrsample\u001b[0m\u001b[0;34m(\u001b[0m\u001b[0mroot_vecs\u001b[0m\u001b[0;34m,\u001b[0m \u001b[0mmodel_\u001b[0m\u001b[0;34m.\u001b[0m\u001b[0mR_mean\u001b[0m\u001b[0;34m,\u001b[0m \u001b[0mmodel_\u001b[0m\u001b[0;34m.\u001b[0m\u001b[0mR_var\u001b[0m\u001b[0;34m,\u001b[0m \u001b[0mperturb\u001b[0m\u001b[0;34m=\u001b[0m\u001b[0;32mFalse\u001b[0m\u001b[0;34m)\u001b[0m\u001b[0;34m\u001b[0m\u001b[0;34m\u001b[0m\u001b[0m\n",
      "\u001b[0;32m/data/pegasus/not-backed-up/durant/Rotation_Project_2/hgraph2graph/preprocess.py\u001b[0m in \u001b[0;36mtensorize\u001b[0;34m(mol_batch, vocab)\u001b[0m\n\u001b[1;32m     17\u001b[0m \u001b[0;34m\u001b[0m\u001b[0m\n\u001b[1;32m     18\u001b[0m \u001b[0;32mdef\u001b[0m \u001b[0mtensorize\u001b[0m\u001b[0;34m(\u001b[0m\u001b[0mmol_batch\u001b[0m\u001b[0;34m,\u001b[0m \u001b[0mvocab\u001b[0m\u001b[0;34m)\u001b[0m\u001b[0;34m:\u001b[0m\u001b[0;34m\u001b[0m\u001b[0;34m\u001b[0m\u001b[0m\n\u001b[0;32m---> 19\u001b[0;31m     \u001b[0mx\u001b[0m \u001b[0;34m=\u001b[0m \u001b[0mMolGraph\u001b[0m\u001b[0;34m.\u001b[0m\u001b[0mtensorize\u001b[0m\u001b[0;34m(\u001b[0m\u001b[0mmol_batch\u001b[0m\u001b[0;34m,\u001b[0m \u001b[0mvocab\u001b[0m\u001b[0;34m,\u001b[0m \u001b[0mcommon_atom_vocab\u001b[0m\u001b[0;34m)\u001b[0m\u001b[0;34m\u001b[0m\u001b[0;34m\u001b[0m\u001b[0m\n\u001b[0m\u001b[1;32m     20\u001b[0m     \u001b[0;32mreturn\u001b[0m \u001b[0mto_numpy\u001b[0m\u001b[0;34m(\u001b[0m\u001b[0mx\u001b[0m\u001b[0;34m)\u001b[0m\u001b[0;34m\u001b[0m\u001b[0;34m\u001b[0m\u001b[0m\n\u001b[1;32m     21\u001b[0m \u001b[0;34m\u001b[0m\u001b[0m\n",
      "\u001b[0;32m/data/pegasus/not-backed-up/durant/Rotation_Project_2/hgraph2graph/hgraph/mol_graph.py\u001b[0m in \u001b[0;36mtensorize\u001b[0;34m(mol_batch, vocab, avocab)\u001b[0m\n\u001b[1;32m    151\u001b[0m     \u001b[0;32mdef\u001b[0m \u001b[0mtensorize\u001b[0m\u001b[0;34m(\u001b[0m\u001b[0mmol_batch\u001b[0m\u001b[0;34m,\u001b[0m \u001b[0mvocab\u001b[0m\u001b[0;34m,\u001b[0m \u001b[0mavocab\u001b[0m\u001b[0;34m)\u001b[0m\u001b[0;34m:\u001b[0m\u001b[0;34m\u001b[0m\u001b[0;34m\u001b[0m\u001b[0m\n\u001b[1;32m    152\u001b[0m         \u001b[0mmol_batch\u001b[0m \u001b[0;34m=\u001b[0m \u001b[0;34m[\u001b[0m\u001b[0mMolGraph\u001b[0m\u001b[0;34m(\u001b[0m\u001b[0mx\u001b[0m\u001b[0;34m)\u001b[0m \u001b[0;32mfor\u001b[0m \u001b[0mx\u001b[0m \u001b[0;32min\u001b[0m \u001b[0mmol_batch\u001b[0m\u001b[0;34m]\u001b[0m\u001b[0;34m\u001b[0m\u001b[0;34m\u001b[0m\u001b[0m\n\u001b[0;32m--> 153\u001b[0;31m         \u001b[0mtree_tensors\u001b[0m\u001b[0;34m,\u001b[0m \u001b[0mtree_batchG\u001b[0m \u001b[0;34m=\u001b[0m \u001b[0mMolGraph\u001b[0m\u001b[0;34m.\u001b[0m\u001b[0mtensorize_graph\u001b[0m\u001b[0;34m(\u001b[0m\u001b[0;34m[\u001b[0m\u001b[0mx\u001b[0m\u001b[0;34m.\u001b[0m\u001b[0mmol_tree\u001b[0m \u001b[0;32mfor\u001b[0m \u001b[0mx\u001b[0m \u001b[0;32min\u001b[0m \u001b[0mmol_batch\u001b[0m\u001b[0;34m]\u001b[0m\u001b[0;34m,\u001b[0m \u001b[0mvocab\u001b[0m\u001b[0;34m)\u001b[0m\u001b[0;34m\u001b[0m\u001b[0;34m\u001b[0m\u001b[0m\n\u001b[0m\u001b[1;32m    154\u001b[0m         \u001b[0mgraph_tensors\u001b[0m\u001b[0;34m,\u001b[0m \u001b[0mgraph_batchG\u001b[0m \u001b[0;34m=\u001b[0m \u001b[0mMolGraph\u001b[0m\u001b[0;34m.\u001b[0m\u001b[0mtensorize_graph\u001b[0m\u001b[0;34m(\u001b[0m\u001b[0;34m[\u001b[0m\u001b[0mx\u001b[0m\u001b[0;34m.\u001b[0m\u001b[0mmol_graph\u001b[0m \u001b[0;32mfor\u001b[0m \u001b[0mx\u001b[0m \u001b[0;32min\u001b[0m \u001b[0mmol_batch\u001b[0m\u001b[0;34m]\u001b[0m\u001b[0;34m,\u001b[0m \u001b[0mavocab\u001b[0m\u001b[0;34m)\u001b[0m\u001b[0;34m\u001b[0m\u001b[0;34m\u001b[0m\u001b[0m\n\u001b[1;32m    155\u001b[0m         \u001b[0mtree_scope\u001b[0m \u001b[0;34m=\u001b[0m \u001b[0mtree_tensors\u001b[0m\u001b[0;34m[\u001b[0m\u001b[0;34m-\u001b[0m\u001b[0;36m1\u001b[0m\u001b[0;34m]\u001b[0m\u001b[0;34m\u001b[0m\u001b[0;34m\u001b[0m\u001b[0m\n",
      "\u001b[0;32m/data/pegasus/not-backed-up/durant/Rotation_Project_2/hgraph2graph/hgraph/mol_graph.py\u001b[0m in \u001b[0;36mtensorize_graph\u001b[0;34m(graph_batch, vocab)\u001b[0m\n\u001b[1;32m    192\u001b[0m             \u001b[0;32mfor\u001b[0m \u001b[0mv\u001b[0m\u001b[0;34m,\u001b[0m \u001b[0mattr\u001b[0m \u001b[0;32min\u001b[0m \u001b[0mG\u001b[0m\u001b[0;34m.\u001b[0m\u001b[0mnodes\u001b[0m\u001b[0;34m(\u001b[0m\u001b[0mdata\u001b[0m\u001b[0;34m=\u001b[0m\u001b[0;34m'label'\u001b[0m\u001b[0;34m)\u001b[0m\u001b[0;34m:\u001b[0m\u001b[0;34m\u001b[0m\u001b[0;34m\u001b[0m\u001b[0m\n\u001b[1;32m    193\u001b[0m                 \u001b[0mG\u001b[0m\u001b[0;34m.\u001b[0m\u001b[0mnodes\u001b[0m\u001b[0;34m[\u001b[0m\u001b[0mv\u001b[0m\u001b[0;34m]\u001b[0m\u001b[0;34m[\u001b[0m\u001b[0;34m'batch_id'\u001b[0m\u001b[0;34m]\u001b[0m \u001b[0;34m=\u001b[0m \u001b[0mbid\u001b[0m\u001b[0;34m\u001b[0m\u001b[0;34m\u001b[0m\u001b[0m\n\u001b[0;32m--> 194\u001b[0;31m                 \u001b[0mfnode\u001b[0m\u001b[0;34m[\u001b[0m\u001b[0mv\u001b[0m\u001b[0;34m]\u001b[0m \u001b[0;34m=\u001b[0m \u001b[0mvocab\u001b[0m\u001b[0;34m[\u001b[0m\u001b[0mattr\u001b[0m\u001b[0;34m]\u001b[0m\u001b[0;34m\u001b[0m\u001b[0;34m\u001b[0m\u001b[0m\n\u001b[0m\u001b[1;32m    195\u001b[0m                 \u001b[0magraph\u001b[0m\u001b[0;34m.\u001b[0m\u001b[0mappend\u001b[0m\u001b[0;34m(\u001b[0m\u001b[0;34m[\u001b[0m\u001b[0;34m]\u001b[0m\u001b[0;34m)\u001b[0m\u001b[0;34m\u001b[0m\u001b[0;34m\u001b[0m\u001b[0m\n\u001b[1;32m    196\u001b[0m \u001b[0;34m\u001b[0m\u001b[0m\n",
      "\u001b[0;32m/data/pegasus/not-backed-up/durant/Rotation_Project_2/hgraph2graph/hgraph/vocab.py\u001b[0m in \u001b[0;36m__getitem__\u001b[0;34m(self, x)\u001b[0m\n\u001b[1;32m     44\u001b[0m     \u001b[0;32mdef\u001b[0m \u001b[0m__getitem__\u001b[0m\u001b[0;34m(\u001b[0m\u001b[0mself\u001b[0m\u001b[0;34m,\u001b[0m \u001b[0mx\u001b[0m\u001b[0;34m)\u001b[0m\u001b[0;34m:\u001b[0m\u001b[0;34m\u001b[0m\u001b[0;34m\u001b[0m\u001b[0m\n\u001b[1;32m     45\u001b[0m         \u001b[0;32massert\u001b[0m \u001b[0mtype\u001b[0m\u001b[0;34m(\u001b[0m\u001b[0mx\u001b[0m\u001b[0;34m)\u001b[0m \u001b[0;32mis\u001b[0m \u001b[0mtuple\u001b[0m\u001b[0;34m\u001b[0m\u001b[0;34m\u001b[0m\u001b[0m\n\u001b[0;32m---> 46\u001b[0;31m         \u001b[0;32mreturn\u001b[0m \u001b[0mself\u001b[0m\u001b[0;34m.\u001b[0m\u001b[0mhmap\u001b[0m\u001b[0;34m[\u001b[0m\u001b[0mx\u001b[0m\u001b[0;34m[\u001b[0m\u001b[0;36m0\u001b[0m\u001b[0;34m]\u001b[0m\u001b[0;34m]\u001b[0m\u001b[0;34m,\u001b[0m \u001b[0mself\u001b[0m\u001b[0;34m.\u001b[0m\u001b[0mvmap\u001b[0m\u001b[0;34m[\u001b[0m\u001b[0mx\u001b[0m\u001b[0;34m]\u001b[0m\u001b[0;34m\u001b[0m\u001b[0;34m\u001b[0m\u001b[0m\n\u001b[0m\u001b[1;32m     47\u001b[0m \u001b[0;34m\u001b[0m\u001b[0m\n\u001b[1;32m     48\u001b[0m     \u001b[0;32mdef\u001b[0m \u001b[0mget_smiles\u001b[0m\u001b[0;34m(\u001b[0m\u001b[0mself\u001b[0m\u001b[0;34m,\u001b[0m \u001b[0midx\u001b[0m\u001b[0;34m)\u001b[0m\u001b[0;34m:\u001b[0m\u001b[0;34m\u001b[0m\u001b[0;34m\u001b[0m\u001b[0m\n",
      "\u001b[0;31mKeyError\u001b[0m: 'C1=CNN=N1'"
     ]
    }
   ],
   "source": [
    "mols_to_interpolate = mpro_smiles\n",
    "raw_latent_variables = generate_latent_space_for_mol(model, mols_to_interpolate)\n",
    "np_latent_variables = tensor_to_numpy(raw_latent_variables)"
   ]
  },
  {
   "cell_type": "code",
   "execution_count": null,
   "id": "ec549679",
   "metadata": {},
   "outputs": [],
   "source": [
    "sampled_latent_variables = np.array([random_sample(np_latent_variables) for _ in range(1000)], dtype=np.float16)\n",
    "sampled_latent_tensor = numpy_to_tensor(np.array(sampled_latent_variables, dtype=np.float16))\n",
    "mols_sampled = generate_specific_molecule(sampled_latent_tensor.float())"
   ]
  },
  {
   "cell_type": "code",
   "execution_count": null,
   "id": "7d234056",
   "metadata": {},
   "outputs": [],
   "source": [
    "mols2grid.display([rdkit.Chem.MolFromSmiles(smi) for smi in mols_to_interpolate])"
   ]
  },
  {
   "cell_type": "code",
   "execution_count": null,
   "id": "0b803b9a",
   "metadata": {},
   "outputs": [],
   "source": [
    "mols2grid.display(mols_sampled)"
   ]
  },
  {
   "cell_type": "code",
   "execution_count": null,
   "id": "3dc5e6a3",
   "metadata": {},
   "outputs": [],
   "source": [
    "mols_sampled_features = [AllChem.GetMorganFingerprintAsBitVect(mol,2) for mol in mols_sampled]\n",
    "mols_sampled_labels = [0 for _ in mols_sampled]\n",
    "mols_to_interpolate_features = generate_fp(mols_to_interpolate)\n",
    "mols_to_interpolate_labels = [1 for _ in mols_to_interpolate]\n",
    "all_labels = mols_to_interpolate_labels + mols_sampled_labels\n",
    "all_features = mols_to_interpolate_features + mols_sampled_features"
   ]
  },
  {
   "cell_type": "code",
   "execution_count": null,
   "id": "a5ec85cd",
   "metadata": {},
   "outputs": [],
   "source": [
    "plot_umap(all_features, \"UMAP analysis of Mpro inhibitors' (yellow)\\n and generated molecules (blue) ECFP4 fingerprints\\n\", all_labels)"
   ]
  }
 ],
 "metadata": {
  "kernelspec": {
   "display_name": "Python 3 (ipykernel)",
   "language": "python",
   "name": "python3"
  },
  "language_info": {
   "codemirror_mode": {
    "name": "ipython",
    "version": 3
   },
   "file_extension": ".py",
   "mimetype": "text/x-python",
   "name": "python",
   "nbconvert_exporter": "python",
   "pygments_lexer": "ipython3",
   "version": "3.7.13"
  }
 },
 "nbformat": 4,
 "nbformat_minor": 5
}
